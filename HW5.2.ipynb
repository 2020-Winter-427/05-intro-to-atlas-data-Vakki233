{
 "cells": [
  {
   "cell_type": "markdown",
   "metadata": {},
   "source": [
    "# Intro to ATLAS Data"
   ]
  },
  {
   "cell_type": "markdown",
   "metadata": {},
   "source": [
    "### Lorentz 4-Vector and Invariant Mass\n",
    "\n",
    "- **Lorentz 4-vectors** are vectors with 4 components. In the context of relativity, they usually associated with space-time 4-vector or energy-momentum 4 vector. The vectors are designed so that their length are invariant under coordinate transformation. The invariant length of space-time 4-vector is associated with the fact that light speed is constant, while the invariant length of energy-momentum 4-vector is associated with the invariant rest mass. Applying Lorentz transformaion to 4-vectors allows alternative perspective of the events from different coordinates.\n",
    "\n",
    "- **Invariant mass**, or rest mass, is defined in both Newton's law F=ma and in Einstein's equation E=mc^2. It is proportional to the inertia of the object at rest. Invariant mass is important because it can be interpreted as the system's energy at rest. In the study of particle physics, for example, when certain particle decays and no longer exists, its invariant mass can be calculated from the energies and momenta of decay products and vice versa. Such quantity is at the center of interest for physicist to reconstruct the system and study the decay process."
   ]
  },
  {
   "cell_type": "code",
   "execution_count": 31,
   "metadata": {},
   "outputs": [],
   "source": [
    "import awkward\n",
    "import numpy as np\n",
    "import uproot\n",
    "import pandas as pd\n",
    "import matplotlib.pyplot as plt\n",
    "import seaborn as sns\n",
    "import math"
   ]
  },
  {
   "cell_type": "code",
   "execution_count": 15,
   "metadata": {},
   "outputs": [
    {
     "data": {
      "text/plain": [
       "{'runNumber': 195847,\n",
       " 'eventNumber': 25001,\n",
       " 'channelNumber': 105986,\n",
       " 'mcWeight': 1.0,\n",
       " 'pvxp_n': 6,\n",
       " 'vxp_z': -166.55519104003906,\n",
       " 'scaleFactor_PILEUP': 2.1865320205688477,\n",
       " 'scaleFactor_ELE': 1.0,\n",
       " 'scaleFactor_MUON': 1.0010457038879395,\n",
       " 'scaleFactor_BTAG': 1.0,\n",
       " 'scaleFactor_TRIGGER': 0.9587962627410889,\n",
       " 'scaleFactor_JVFSF': 1.0,\n",
       " 'scaleFactor_ZVERTEX': 0.09574773162603378,\n",
       " 'trigE': False,\n",
       " 'trigM': True,\n",
       " 'passGRL': True,\n",
       " 'hasGoodVertex': True,\n",
       " 'lep_n': 1,\n",
       " 'lep_truthMatched': [True],\n",
       " 'lep_trigMatched': [1],\n",
       " 'lep_pt': [34132.2890625],\n",
       " 'lep_eta': [-0.2617584764957428],\n",
       " 'lep_phi': [0.659946620464325],\n",
       " 'lep_E': [35308.46875],\n",
       " 'lep_z0': [-0.09328432381153107],\n",
       " 'lep_charge': [-1.0],\n",
       " 'lep_type': [13],\n",
       " 'lep_flag': [568344575],\n",
       " 'lep_ptcone30': [0.0],\n",
       " 'lep_etcone20': [54.29543685913086],\n",
       " 'lep_trackd0pvunbiased': [0.006909203715622425],\n",
       " 'lep_tracksigd0pvunbiased': [0.017931267619132996],\n",
       " 'met_et': 13005.88671875,\n",
       " 'met_phi': 2.876398801803589,\n",
       " 'jet_n': 0,\n",
       " 'alljet_n': 0,\n",
       " 'jet_pt': [],\n",
       " 'jet_eta': [],\n",
       " 'jet_phi': [],\n",
       " 'jet_E': [],\n",
       " 'jet_m': [],\n",
       " 'jet_jvf': [],\n",
       " 'jet_trueflav': [],\n",
       " 'jet_truthMatched': [],\n",
       " 'jet_SV0': [],\n",
       " 'jet_MV1': []}"
      ]
     },
     "execution_count": 15,
     "metadata": {},
     "output_type": "execute_result"
    }
   ],
   "source": [
    "#Instead of using dataframes, here uses array structure as suggested in the awkward array documentation.\n",
    "#A single array is displayed as below.\n",
    "events = uproot.open(\"./mc_105986.ZZ.root\")[\"mini\"].lazyarrays()\n",
    "events[0].tolist()"
   ]
  },
  {
   "cell_type": "code",
   "execution_count": 10,
   "metadata": {},
   "outputs": [
    {
     "data": {
      "text/plain": [
       "['lep_n', 'lep_charge', 'lep_type', 'lep_pt', 'lep_eta', 'lep_phi', 'lep_E']"
      ]
     },
     "execution_count": 10,
     "metadata": {},
     "output_type": "execute_result"
    }
   ],
   "source": [
    "#Then extract the required the elements\n",
    "tree1 = events[[\"lep_n\",\"lep_charge\",\"lep_type\",\"lep_pt\",\"lep_eta\",\"lep_phi\",\"lep_E\"]]\n",
    "tree1.columns"
   ]
  },
  {
   "cell_type": "markdown",
   "metadata": {},
   "source": [
    "As suggested in the ATLAS notebook, there are centain conditions that should be satisfied, \n",
    "- At least 2 leptons; \n",
    "- leptons should have opposite charge;\n",
    "- Leptons be in the same family (2 electrons or 2 muons)\n",
    "\n",
    "After filtering the data, add the 4-vector of lead lepton and trail lepton to get the invariant mass"
   ]
  },
  {
   "cell_type": "code",
   "execution_count": 35,
   "metadata": {},
   "outputs": [],
   "source": [
    "L4V = []\n",
    "leadLepton = 0\n",
    "trailLepton = 0\n",
    "for x in range(len(tree1)):\n",
    "    if tree1.lep_n[x] >= 2:\n",
    "         if (tree1.lep_charge[x][0] != tree1.lep_charge[x][1]):\n",
    "                if (tree1.lep_type[x][0] == tree1.lep_type[x][1]):\n",
    "                    pxlead = tree1.lep_pt[x][0]/1000. * math.cos(tree1.lep_phi[x][0])\n",
    "                    pylead = tree1.lep_pt[x][0]/1000. * math.sin(tree1.lep_phi[x][0])\n",
    "                    pzlead = tree1.lep_pt[x][0]/1000. * math.sinh(tree1.lep_eta[x][0])\n",
    "                    Elead = tree1.lep_E[x][0]/1000.\n",
    "                    pxtail = tree1.lep_pt[x][1]/1000. * math.cos(tree1.lep_phi[x][1])\n",
    "                    pytail = tree1.lep_pt[x][1]/1000. * math.sin(tree1.lep_phi[x][1])\n",
    "                    pztail = tree1.lep_pt[x][1]/1000. * math.sinh(tree1.lep_eta[x][1])\n",
    "                    Etail = tree1.lep_E[x][1]/1000.\n",
    "                    leadLepton = [pxlead, pylead, pzlead, Elead]\n",
    "                    trailLepton = [pxtail, pytail, pztail, Etail]\n",
    "                    L4V.append(np.add(leadLepton, trailLepton))"
   ]
  },
  {
   "cell_type": "markdown",
   "metadata": {},
   "source": [
    "- Invariant Mass equals square root of the difference between energy square and momentum square"
   ]
  },
  {
   "cell_type": "code",
   "execution_count": 37,
   "metadata": {},
   "outputs": [],
   "source": [
    "def Invmass(x): \n",
    "    mass = np.sqrt(x[3]**2 - x[1]**2 -x[2]**2 - x[0]**2)\n",
    "    return mass"
   ]
  },
  {
   "cell_type": "code",
   "execution_count": 49,
   "metadata": {},
   "outputs": [
    {
     "data": {
      "image/png": "[encoded data removed]",
      "text/plain": [
       "<Figure size 720x576 with 1 Axes>"
      ]
     },
     "metadata": {
      "needs_background": "light"
     },
     "output_type": "display_data"
    }
   ],
   "source": [
    "invmass = []\n",
    "for x in range(len(L4V)):\n",
    "    invmass.append(Invmass(L4V[x]))\n",
    "plt.figure(figsize=(10,8))\n",
    "plt.hist(invmass,range=(40,160),bins=30)\n",
    "plt.title(\"Invariant Mass of Z Boson\",fontsize=20)\n",
    "plt.xlabel(\"Invariant Mass(GeV)\",fontsize=12)\n",
    "plt.ylabel(\"Counts\",fontsize=12)\n",
    "plt.show()"
   ]
  },
  {
   "cell_type": "markdown",
   "metadata": {},
   "source": [
    "- Adding the 4 lepton data from the official juypter note"
   ]
  },
  {
   "cell_type": "code",
   "execution_count": 57,
   "metadata": {},
   "outputs": [
    {
     "data": {
      "text/plain": [
       "['lep_n', 'lep_charge', 'lep_type', 'lep_pt', 'lep_eta', 'lep_phi', 'lep_E']"
      ]
     },
     "execution_count": 57,
     "metadata": {},
     "output_type": "execute_result"
    }
   ],
   "source": [
    "events2 = uproot.open(\"./mc_361106.Zee.1largeRjet1lep.root\")[\"mini\"].lazyarrays()\n",
    "tree2 = events2[[\"lep_n\",\"lep_charge\",\"lep_type\",\"lep_pt\",\"lep_eta\",\"lep_phi\",\"lep_E\"]]\n",
    "tree2.columns"
   ]
  },
  {
   "cell_type": "code",
   "execution_count": 58,
   "metadata": {},
   "outputs": [],
   "source": [
    "def Invmassfunc(tree):\n",
    "    L4V = []\n",
    "    leadLepton = []\n",
    "    trailLepton = []\n",
    "    for x in range(len(tree2)):\n",
    "        if tree.lep_n[x] >= 2:\n",
    "             if (tree.lep_charge[x][0] != tree.lep_charge[x][1]):\n",
    "                    if (tree.lep_type[x][0] == tree.lep_type[x][1]):\n",
    "                        pxlead = tree.lep_pt[x][0]/1000. * math.cos(tree.lep_phi[x][0])\n",
    "                        pylead = tree.lep_pt[x][0]/1000. * math.sin(tree.lep_phi[x][0])\n",
    "                        pzlead = tree.lep_pt[x][0]/1000. * math.sinh(tree.lep_eta[x][0])\n",
    "                        Elead = tree.lep_E[x][0]/1000.\n",
    "                        pxtail = tree.lep_pt[x][1]/1000. * math.cos(tree.lep_phi[x][1])\n",
    "                        pytail = tree.lep_pt[x][1]/1000. * math.sin(tree.lep_phi[x][1])\n",
    "                        pztail = tree.lep_pt[x][1]/1000. * math.sinh(tree.lep_eta[x][1])\n",
    "                        Etail = tree.lep_E[x][1]/1000.\n",
    "                        leadLepton = [pxlead, pylead, pzlead, Elead]\n",
    "                        trailLepton = [pxtail, pytail, pztail, Etail]\n",
    "                        L4V.append(np.add(leadLepton, trailLepton))\n",
    "    invmass = []\n",
    "    for x in range(len(L4V)):\n",
    "        invmass.append(Invmass(L4V[x]))\n",
    "    return invmass"
   ]
  },
  {
   "cell_type": "code",
   "execution_count": 59,
   "metadata": {},
   "outputs": [],
   "source": [
    "invmass2 = Invmassfunc(tree2)"
   ]
  },
  {
   "cell_type": "code",
   "execution_count": 60,
   "metadata": {},
   "outputs": [
    {
     "data": {
      "image/png": "[encoded data removed]",
      "text/plain": [
       "<Figure size 720x576 with 1 Axes>"
      ]
     },
     "metadata": {
      "needs_background": "light"
     },
     "output_type": "display_data"
    }
   ],
   "source": [
    "plt.figure(figsize=(10,8))\n",
    "plt.hist(invmass2,range=(40,160),bins=30)\n",
    "plt.title(\"Invariant Mass of Z Boson\",fontsize=20)\n",
    "plt.xlabel(\"Invariant Mass(GeV)\",fontsize=12)\n",
    "plt.ylabel(\"Counts\",fontsize=12)\n",
    "plt.show()"
   ]
  },
  {
   "cell_type": "code",
   "execution_count": null,
   "metadata": {},
   "outputs": [],
   "source": []
  }
 ],
 "metadata": {
  "kernelspec": {
   "display_name": "Python 3",
   "language": "python",
   "name": "python3"
  },
  "language_info": {
   "codemirror_mode": {
    "name": "ipython",
    "version": 3
   },
   "file_extension": ".py",
   "mimetype": "text/x-python",
   "name": "python",
   "nbconvert_exporter": "python",
   "pygments_lexer": "ipython3",
   "version": "3.7.4"
  }
 },
 "nbformat": 4,
 "nbformat_minor": 4
}
